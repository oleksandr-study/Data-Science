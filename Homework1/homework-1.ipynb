{
 "cells": [
  {
   "cell_type": "code",
   "execution_count": 1,
   "metadata": {},
   "outputs": [],
   "source": [
    "import numpy as np"
   ]
  },
  {
   "cell_type": "code",
   "execution_count": 2,
   "metadata": {},
   "outputs": [
    {
     "name": "stdout",
     "output_type": "stream",
     "text": [
      "[0 1 2 3 4 5 6 7 8 9]\n"
     ]
    }
   ],
   "source": [
    "# 1\n",
    "a = np.array([0, 1, 2, 3, 4, 5, 6, 7, 8, 9])\n",
    "print(a)"
   ]
  },
  {
   "cell_type": "code",
   "execution_count": 93,
   "metadata": {},
   "outputs": [
    {
     "name": "stdout",
     "output_type": "stream",
     "text": [
      "[[0 0 0]\n",
      " [0 0 0]\n",
      " [0 0 0]]\n"
     ]
    }
   ],
   "source": [
    "# 2\n",
    "a = np.zeros([3, 3], dtype=int)\n",
    "print(a)"
   ]
  },
  {
   "cell_type": "code",
   "execution_count": 28,
   "metadata": {},
   "outputs": [
    {
     "name": "stdout",
     "output_type": "stream",
     "text": [
      "[[ 7  2  4  1  6]\n",
      " [ 5  5  6  2 10]\n",
      " [ 3  5  2  4  3]\n",
      " [ 2  6  9  8  7]\n",
      " [ 7  5  4  2  6]]\n"
     ]
    }
   ],
   "source": [
    "# 3\n",
    "a = np.random.randint(low=1, high=11, size=(5, 5))\n",
    "print(a)"
   ]
  },
  {
   "cell_type": "code",
   "execution_count": 32,
   "metadata": {},
   "outputs": [
    {
     "name": "stdout",
     "output_type": "stream",
     "text": [
      "[[0.7832386  0.82176459 0.91053038 0.63008322]\n",
      " [0.94702786 0.15592189 0.71157689 0.54527883]\n",
      " [0.63242745 0.47252125 0.57629341 0.99162681]\n",
      " [0.51352473 0.84728097 0.72208418 0.18883671]]\n"
     ]
    }
   ],
   "source": [
    "# 4\n",
    "a = np.random.random([4, 4])\n",
    "print(a)"
   ]
  },
  {
   "cell_type": "code",
   "execution_count": 87,
   "metadata": {},
   "outputs": [
    {
     "name": "stdout",
     "output_type": "stream",
     "text": [
      "[3 9 9 2 3]\n",
      "[7 2 7 6 3]\n",
      "\n",
      "[10 11 16  8  6]\n",
      "[-4  7  2 -4  0]\n",
      "[21 18 63 12  9]\n"
     ]
    }
   ],
   "source": [
    "# 5\n",
    "a = np.random.randint(low=1, high=11, size=(5))\n",
    "b = np.random.randint(low=1, high=11, size=(5))\n",
    "print(a)\n",
    "print(b)\n",
    "print()\n",
    "print(a + b)\n",
    "print(a - b)\n",
    "print(a * b)"
   ]
  },
  {
   "cell_type": "code",
   "execution_count": 86,
   "metadata": {},
   "outputs": [
    {
     "name": "stdout",
     "output_type": "stream",
     "text": [
      "[6 7 2 1 7 3 7]\n",
      "\n",
      "[10  4  2  6  2  8  8]\n",
      "\n",
      "192\n"
     ]
    }
   ],
   "source": [
    "# 6\n",
    "a = np.random.randint(low=1, high=11, size=(7))\n",
    "b = np.random.randint(low=1, high=11, size=(7))\n",
    "print(a)\n",
    "print()\n",
    "print(b)\n",
    "print()\n",
    "c = np.dot(a, b)\n",
    "print(c)"
   ]
  },
  {
   "cell_type": "code",
   "execution_count": 85,
   "metadata": {},
   "outputs": [
    {
     "name": "stdout",
     "output_type": "stream",
     "text": [
      "[[8 3]\n",
      " [6 1]]\n",
      "\n",
      "[[ 6 10  7]\n",
      " [ 9  6 10]]\n",
      "\n",
      "[[75 98 86]\n",
      " [45 66 52]]\n"
     ]
    }
   ],
   "source": [
    "# 7\n",
    "a = np.random.randint(low=1, high=11, size=(2, 2))\n",
    "b = np.random.randint(low=1, high=11, size=(2, 3))\n",
    "print(a)\n",
    "print()\n",
    "print(b)\n",
    "print()\n",
    "c = np.dot(a, b)\n",
    "print(c)\n"
   ]
  },
  {
   "cell_type": "code",
   "execution_count": 66,
   "metadata": {},
   "outputs": [
    {
     "name": "stdout",
     "output_type": "stream",
     "text": [
      "[[ 8  7  2]\n",
      " [ 2  6  5]\n",
      " [10  2  1]]\n",
      "\n",
      "[[-0.02083333 -0.015625    0.11979167]\n",
      " [ 0.25       -0.0625     -0.1875    ]\n",
      " [-0.29166667  0.28125     0.17708333]]\n"
     ]
    }
   ],
   "source": [
    "# 8\n",
    "a = np.random.randint(low=1, high=11, size=(3, 3))\n",
    "print(a)\n",
    "print()\n",
    "a_inv = np.linalg.inv(a)\n",
    "print(a_inv)"
   ]
  },
  {
   "cell_type": "code",
   "execution_count": 68,
   "metadata": {},
   "outputs": [
    {
     "name": "stdout",
     "output_type": "stream",
     "text": [
      "[[0.23006285 0.35826049 0.95317644 0.30673024]\n",
      " [0.11240823 0.25376684 0.32971123 0.06848648]\n",
      " [0.88963552 0.32072341 0.98192109 0.22643168]\n",
      " [0.4203074  0.47759189 0.72330023 0.77890012]]\n",
      "\n",
      "[[0.23006285 0.11240823 0.88963552 0.4203074 ]\n",
      " [0.35826049 0.25376684 0.32072341 0.47759189]\n",
      " [0.95317644 0.32971123 0.98192109 0.72330023]\n",
      " [0.30673024 0.06848648 0.22643168 0.77890012]]\n"
     ]
    }
   ],
   "source": [
    "# 9\n",
    "a = np.random.random([4, 4])\n",
    "print(a)\n",
    "print()\n",
    "a_T = a.T\n",
    "print(a_T)"
   ]
  },
  {
   "cell_type": "code",
   "execution_count": 83,
   "metadata": {},
   "outputs": [
    {
     "name": "stdout",
     "output_type": "stream",
     "text": [
      "[[ 2  7  8  5]\n",
      " [10  6  9  6]\n",
      " [ 8  2  6  1]]\n",
      "\n",
      "[5 7 8 1]\n",
      "[128 170 103]\n"
     ]
    }
   ],
   "source": [
    "# 10\n",
    "a = np.random.randint(low=1, high=11, size=(3,4))\n",
    "print(a)\n",
    "print()\n",
    "b = np.random.randint(low=1, high=11, size=(4))\n",
    "print(b)\n",
    "c = np.dot(a, b)\n",
    "print(c)"
   ]
  },
  {
   "cell_type": "code",
   "execution_count": 84,
   "metadata": {},
   "outputs": [
    {
     "name": "stdout",
     "output_type": "stream",
     "text": [
      "[[0.01662092 0.70206699 0.91489885]\n",
      " [0.46999941 0.65194523 0.92674393]]\n",
      "\n",
      "[0.40612251 0.06472971 0.76286941]\n",
      "\n",
      "[0.75014307 0.94006217]\n"
     ]
    }
   ],
   "source": [
    "# 11\n",
    "a = np.random.random([2, 3])\n",
    "print(a)\n",
    "print()\n",
    "b = np.random.random(3)\n",
    "print(b)\n",
    "print()\n",
    "c = np.dot(a, b)\n",
    "print(c)"
   ]
  },
  {
   "cell_type": "code",
   "execution_count": 92,
   "metadata": {},
   "outputs": [
    {
     "name": "stdout",
     "output_type": "stream",
     "text": [
      "[[4 4]\n",
      " [6 8]]\n",
      "\n",
      "[[3 4]\n",
      " [1 9]]\n",
      "\n",
      "[[12 16]\n",
      " [ 6 72]]\n"
     ]
    }
   ],
   "source": [
    "# 12\n",
    "a = np.random.randint(low=1, high=10, size=(2, 2))\n",
    "print(a)\n",
    "print()\n",
    "b = np.random.randint(low=1, high=10, size=(2, 2))\n",
    "print(b)\n",
    "print()\n",
    "c = a * b\n",
    "print(c)"
   ]
  },
  {
   "cell_type": "code",
   "execution_count": 94,
   "metadata": {},
   "outputs": [
    {
     "name": "stdout",
     "output_type": "stream",
     "text": [
      "[[7 8]\n",
      " [4 1]]\n",
      "\n",
      "[[9 4]\n",
      " [4 8]]\n",
      "\n",
      "[[95 92]\n",
      " [40 24]]\n"
     ]
    }
   ],
   "source": [
    "# 13\n",
    "a = np.random.randint(low=1, high=10, size=(2, 2))\n",
    "print(a)\n",
    "print()\n",
    "b = np.random.randint(low=1, high=10, size=(2, 2))\n",
    "print(b)\n",
    "print()\n",
    "c = np.dot(a, b)\n",
    "print(c)"
   ]
  },
  {
   "cell_type": "code",
   "execution_count": 96,
   "metadata": {},
   "outputs": [
    {
     "name": "stdout",
     "output_type": "stream",
     "text": [
      "[[ 1 96  5 85 99]\n",
      " [96  6 80 95 50]\n",
      " [52 65 88 36 42]\n",
      " [ 2 84 59 46  5]\n",
      " [95 62 35 90 74]]\n",
      "\n",
      "1448\n"
     ]
    }
   ],
   "source": [
    "# 14\n",
    "a = np.random.randint(low=1, high=101, size=(5, 5))\n",
    "print(a)\n",
    "print()\n",
    "b = a.sum()\n",
    "print(b)"
   ]
  },
  {
   "cell_type": "code",
   "execution_count": 97,
   "metadata": {},
   "outputs": [
    {
     "name": "stdout",
     "output_type": "stream",
     "text": [
      "[[6 2 2 7]\n",
      " [4 6 5 9]\n",
      " [7 3 7 2]\n",
      " [7 7 2 9]]\n",
      "\n",
      "[[8 2 3 9]\n",
      " [1 5 9 3]\n",
      " [5 4 2 9]\n",
      " [1 7 6 9]]\n",
      "\n",
      "[[-2  0 -1 -2]\n",
      " [ 3  1 -4  6]\n",
      " [ 2 -1  5 -7]\n",
      " [ 6  0 -4  0]]\n"
     ]
    }
   ],
   "source": [
    "# 15\n",
    "a = np.random.randint(low=1, high=10, size=(4, 4))\n",
    "print(a)\n",
    "print()\n",
    "b = np.random.randint(low=1, high=10, size=(4, 4))\n",
    "print(b)\n",
    "print()\n",
    "c = a - b\n",
    "print(c)"
   ]
  },
  {
   "cell_type": "code",
   "execution_count": 106,
   "metadata": {},
   "outputs": [
    {
     "name": "stdout",
     "output_type": "stream",
     "text": [
      "[[0.78478104 0.56158306 0.27867692]\n",
      " [0.76744937 0.66795892 0.82714339]\n",
      " [0.21534732 0.49777639 0.30377559]]\n",
      "\n",
      "[1.62504102 2.26255168 1.0168993 ]\n"
     ]
    }
   ],
   "source": [
    "# 16\n",
    "a = np.random.random([3, 3])\n",
    "print(a)\n",
    "print()\n",
    "b = a.sum(axis=1)\n",
    "print(b)"
   ]
  },
  {
   "cell_type": "code",
   "execution_count": 117,
   "metadata": {},
   "outputs": [
    {
     "name": "stdout",
     "output_type": "stream",
     "text": [
      "[[1 4 4 2]\n",
      " [2 4 2 4]\n",
      " [4 2 3 1]]\n",
      "\n",
      "[[ 1 16 16  4]\n",
      " [ 4 16  4 16]\n",
      " [16  4  9  1]]\n"
     ]
    }
   ],
   "source": [
    "# 17\n",
    "a = np.random.randint(1, 5, size=(3, 4)) \n",
    "print(a)\n",
    "print()\n",
    "b = a * a\n",
    "print(b)\n"
   ]
  },
  {
   "cell_type": "code",
   "execution_count": 133,
   "metadata": {},
   "outputs": [
    {
     "name": "stdout",
     "output_type": "stream",
     "text": [
      "[14 34  4  4]\n",
      "\n",
      "[3.74165739 5.83095189 2.         2.        ]\n"
     ]
    }
   ],
   "source": [
    "# 18\n",
    "a = np.random.randint(1, 51, size=(4)) \n",
    "print(a)\n",
    "print()\n",
    "result = np.sqrt(a)\n",
    "print(result)"
   ]
  }
 ],
 "metadata": {
  "kernelspec": {
   "display_name": "Python 3",
   "language": "python",
   "name": "python3"
  },
  "language_info": {
   "codemirror_mode": {
    "name": "ipython",
    "version": 3
   },
   "file_extension": ".py",
   "mimetype": "text/x-python",
   "name": "python",
   "nbconvert_exporter": "python",
   "pygments_lexer": "ipython3",
   "version": "3.12.0"
  }
 },
 "nbformat": 4,
 "nbformat_minor": 2
}
