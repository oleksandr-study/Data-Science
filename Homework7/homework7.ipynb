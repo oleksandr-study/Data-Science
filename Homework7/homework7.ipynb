{
 "cells": [
  {
   "cell_type": "code",
   "execution_count": 13,
   "metadata": {},
   "outputs": [],
   "source": [
    "from surprise import Dataset, SVD, SVDpp, NMF\n",
    "from surprise.model_selection import cross_validate"
   ]
  },
  {
   "cell_type": "code",
   "execution_count": 14,
   "metadata": {},
   "outputs": [
    {
     "name": "stdout",
     "output_type": "stream",
     "text": [
      "Evaluating RMSE, MAE of algorithm SVD on 5 split(s).\n",
      "\n",
      "                  Fold 1  Fold 2  Fold 3  Fold 4  Fold 5  Mean    Std     \n",
      "RMSE (testset)    0.9394  0.9351  0.9339  0.9326  0.9353  0.9352  0.0023  \n",
      "MAE (testset)     0.7405  0.7359  0.7354  0.7377  0.7361  0.7371  0.0019  \n",
      "Fit time          0.98    0.99    0.97    1.06    0.99    1.00    0.03    \n",
      "Test time         0.09    0.15    0.09    0.14    0.08    0.11    0.03    \n"
     ]
    },
    {
     "data": {
      "text/plain": [
       "{'test_rmse': array([0.93936349, 0.93509196, 0.93389911, 0.9326059 , 0.93527007]),\n",
       " 'test_mae': array([0.74051384, 0.73592379, 0.73541039, 0.7377231 , 0.73613501]),\n",
       " 'fit_time': (0.979278564453125,\n",
       "  0.9872593879699707,\n",
       "  0.967970609664917,\n",
       "  1.058349847793579,\n",
       "  0.9853148460388184),\n",
       " 'test_time': (0.0919792652130127,\n",
       "  0.1466667652130127,\n",
       "  0.08699345588684082,\n",
       "  0.14199352264404297,\n",
       "  0.08499002456665039)}"
      ]
     },
     "execution_count": 14,
     "metadata": {},
     "output_type": "execute_result"
    }
   ],
   "source": [
    "movie_df = Dataset.load_builtin(name='ml-100k', prompt=False)\n",
    "algo = SVD()\n",
    "cross_validate(algo, movie_df, measures=['RMSE', 'MAE'], cv=5, verbose=True)"
   ]
  },
  {
   "cell_type": "code",
   "execution_count": 15,
   "metadata": {},
   "outputs": [
    {
     "name": "stdout",
     "output_type": "stream",
     "text": [
      "Evaluating RMSE, MAE of algorithm SVDpp on 5 split(s).\n",
      "\n",
      "                  Fold 1  Fold 2  Fold 3  Fold 4  Fold 5  Mean    Std     \n",
      "RMSE (testset)    0.9207  0.9272  0.9098  0.9129  0.9276  0.9196  0.0073  \n",
      "MAE (testset)     0.7244  0.7275  0.7124  0.7158  0.7247  0.7210  0.0058  \n",
      "Fit time          12.92   12.43   13.29   13.11   13.09   12.97   0.29    \n",
      "Test time         3.00    3.06    3.23    3.02    3.11    3.09    0.08    \n"
     ]
    },
    {
     "data": {
      "text/plain": [
       "{'test_rmse': array([0.9206731 , 0.92723208, 0.90980518, 0.91294416, 0.92758253]),\n",
       " 'test_mae': array([0.72436405, 0.72745487, 0.71241599, 0.71577646, 0.72474955]),\n",
       " 'fit_time': (12.923017024993896,\n",
       "  12.427588939666748,\n",
       "  13.285335779190063,\n",
       "  13.109690427780151,\n",
       "  13.091933965682983),\n",
       " 'test_time': (3.0029335021972656,\n",
       "  3.062861204147339,\n",
       "  3.2335147857666016,\n",
       "  3.0178472995758057,\n",
       "  3.113154888153076)}"
      ]
     },
     "execution_count": 15,
     "metadata": {},
     "output_type": "execute_result"
    }
   ],
   "source": [
    "algo = SVDpp(cache_ratings=True)\n",
    "cross_validate(algo, movie_df, measures=['RMSE', 'MAE'], cv=5, verbose=True)"
   ]
  },
  {
   "cell_type": "code",
   "execution_count": 16,
   "metadata": {},
   "outputs": [
    {
     "name": "stdout",
     "output_type": "stream",
     "text": [
      "Evaluating RMSE, MAE of algorithm NMF on 5 split(s).\n",
      "\n",
      "                  Fold 1  Fold 2  Fold 3  Fold 4  Fold 5  Mean    Std     \n",
      "RMSE (testset)    0.9605  0.9647  0.9570  0.9636  0.9688  0.9629  0.0040  \n",
      "MAE (testset)     0.7549  0.7586  0.7530  0.7569  0.7608  0.7568  0.0027  \n",
      "Fit time          1.80    1.74    1.73    1.73    1.80    1.76    0.03    \n",
      "Test time         0.07    0.13    0.07    0.13    0.08    0.10    0.03    \n"
     ]
    },
    {
     "data": {
      "text/plain": [
       "{'test_rmse': array([0.96046673, 0.96469977, 0.95695722, 0.96364424, 0.96883206]),\n",
       " 'test_mae': array([0.75487667, 0.75858042, 0.75295148, 0.75693871, 0.76079548]),\n",
       " 'fit_time': (1.799198865890503,\n",
       "  1.7378792762756348,\n",
       "  1.7312533855438232,\n",
       "  1.72501802444458,\n",
       "  1.7999882698059082),\n",
       " 'test_time': (0.07091426849365234,\n",
       "  0.13262009620666504,\n",
       "  0.07095456123352051,\n",
       "  0.13099336624145508,\n",
       "  0.07599258422851562)}"
      ]
     },
     "execution_count": 16,
     "metadata": {},
     "output_type": "execute_result"
    }
   ],
   "source": [
    "algo = NMF()\n",
    "cross_validate(algo, movie_df, measures=['RMSE', 'MAE'], cv=5, verbose=True)"
   ]
  },
  {
   "cell_type": "markdown",
   "metadata": {},
   "source": [
    "Висновок: для нашого датасету найкращій результат надає Matrix Factorization-based (NMF) алгоритм."
   ]
  }
 ],
 "metadata": {
  "kernelspec": {
   "display_name": "Python 3",
   "language": "python",
   "name": "python3"
  },
  "language_info": {
   "codemirror_mode": {
    "name": "ipython",
    "version": 3
   },
   "file_extension": ".py",
   "mimetype": "text/x-python",
   "name": "python",
   "nbconvert_exporter": "python",
   "pygments_lexer": "ipython3",
   "version": "3.12.0"
  }
 },
 "nbformat": 4,
 "nbformat_minor": 2
}
