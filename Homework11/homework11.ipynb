{
 "cells": [
  {
   "cell_type": "code",
   "execution_count": 1,
   "metadata": {},
   "outputs": [],
   "source": [
    "from tensorflow.keras.datasets import imdb\n",
    "from tensorflow.keras.preprocessing.sequence import pad_sequences\n",
    "from tensorflow.keras.models import Sequential\n",
    "from tensorflow.keras.layers import Embedding, SimpleRNN, Dense, LSTM, Bidirectional"
   ]
  },
  {
   "cell_type": "code",
   "execution_count": 2,
   "metadata": {},
   "outputs": [],
   "source": [
    "#  Задаємо константи\n",
    "max_features = 1000\n",
    "max_len = 500"
   ]
  },
  {
   "cell_type": "code",
   "execution_count": 3,
   "metadata": {},
   "outputs": [
    {
     "name": "stdout",
     "output_type": "stream",
     "text": [
      "Downloading data from https://storage.googleapis.com/tensorflow/tf-keras-datasets/imdb.npz\n",
      "\u001b[1m17464789/17464789\u001b[0m \u001b[32m━━━━━━━━━━━━━━━━━━━━\u001b[0m\u001b[37m\u001b[0m \u001b[1m2s\u001b[0m 0us/step\n"
     ]
    }
   ],
   "source": [
    "# Завантажуємо датасет\n",
    "(x_train, y_train), (x_test, y_test) = imdb.load_data(num_words=max_features)\n",
    "x_train = pad_sequences(x_train, maxlen=max_len)\n",
    "x_test = pad_sequences(x_test, maxlen=max_len)"
   ]
  },
  {
   "cell_type": "code",
   "execution_count": 4,
   "metadata": {},
   "outputs": [
    {
     "name": "stdout",
     "output_type": "stream",
     "text": [
      "Epoch 1/10\n"
     ]
    },
    {
     "name": "stderr",
     "output_type": "stream",
     "text": [
      "c:\\Users\\Tomson\\AppData\\Local\\Programs\\Python\\Python312\\Lib\\site-packages\\keras\\src\\layers\\core\\embedding.py:90: UserWarning: Argument `input_length` is deprecated. Just remove it.\n",
      "  warnings.warn(\n"
     ]
    },
    {
     "name": "stdout",
     "output_type": "stream",
     "text": [
      "\u001b[1m293/293\u001b[0m \u001b[32m━━━━━━━━━━━━━━━━━━━━\u001b[0m\u001b[37m\u001b[0m \u001b[1m30s\u001b[0m 95ms/step - acc: 0.5607 - loss: 0.6743 - val_acc: 0.7250 - val_loss: 0.5497\n",
      "Epoch 2/10\n",
      "\u001b[1m293/293\u001b[0m \u001b[32m━━━━━━━━━━━━━━━━━━━━\u001b[0m\u001b[37m\u001b[0m \u001b[1m30s\u001b[0m 101ms/step - acc: 0.7272 - loss: 0.5570 - val_acc: 0.7173 - val_loss: 0.5845\n",
      "Epoch 3/10\n",
      "\u001b[1m293/293\u001b[0m \u001b[32m━━━━━━━━━━━━━━━━━━━━\u001b[0m\u001b[37m\u001b[0m \u001b[1m30s\u001b[0m 103ms/step - acc: 0.7160 - loss: 0.5509 - val_acc: 0.7259 - val_loss: 0.5469\n",
      "Epoch 4/10\n",
      "\u001b[1m293/293\u001b[0m \u001b[32m━━━━━━━━━━━━━━━━━━━━\u001b[0m\u001b[37m\u001b[0m \u001b[1m30s\u001b[0m 103ms/step - acc: 0.8088 - loss: 0.4322 - val_acc: 0.7965 - val_loss: 0.4726\n",
      "Epoch 5/10\n",
      "\u001b[1m293/293\u001b[0m \u001b[32m━━━━━━━━━━━━━━━━━━━━\u001b[0m\u001b[37m\u001b[0m \u001b[1m31s\u001b[0m 104ms/step - acc: 0.8087 - loss: 0.4229 - val_acc: 0.7422 - val_loss: 0.6189\n",
      "Epoch 6/10\n",
      "\u001b[1m293/293\u001b[0m \u001b[32m━━━━━━━━━━━━━━━━━━━━\u001b[0m\u001b[37m\u001b[0m \u001b[1m31s\u001b[0m 105ms/step - acc: 0.8277 - loss: 0.3946 - val_acc: 0.7814 - val_loss: 0.5038\n",
      "Epoch 7/10\n",
      "\u001b[1m293/293\u001b[0m \u001b[32m━━━━━━━━━━━━━━━━━━━━\u001b[0m\u001b[37m\u001b[0m \u001b[1m31s\u001b[0m 105ms/step - acc: 0.8528 - loss: 0.3495 - val_acc: 0.7710 - val_loss: 0.5401\n",
      "Epoch 8/10\n",
      "\u001b[1m293/293\u001b[0m \u001b[32m━━━━━━━━━━━━━━━━━━━━\u001b[0m\u001b[37m\u001b[0m \u001b[1m31s\u001b[0m 106ms/step - acc: 0.8679 - loss: 0.3157 - val_acc: 0.7955 - val_loss: 0.5291\n",
      "Epoch 9/10\n",
      "\u001b[1m293/293\u001b[0m \u001b[32m━━━━━━━━━━━━━━━━━━━━\u001b[0m\u001b[37m\u001b[0m \u001b[1m32s\u001b[0m 109ms/step - acc: 0.8785 - loss: 0.2921 - val_acc: 0.7746 - val_loss: 0.5565\n",
      "Epoch 10/10\n",
      "\u001b[1m293/293\u001b[0m \u001b[32m━━━━━━━━━━━━━━━━━━━━\u001b[0m\u001b[37m\u001b[0m \u001b[1m31s\u001b[0m 106ms/step - acc: 0.8961 - loss: 0.2615 - val_acc: 0.7539 - val_loss: 0.5969\n",
      "\u001b[1m782/782\u001b[0m \u001b[32m━━━━━━━━━━━━━━━━━━━━\u001b[0m\u001b[37m\u001b[0m \u001b[1m17s\u001b[0m 22ms/step - acc: 0.7491 - loss: 0.6139\n",
      "Test Loss: 0.6098709106445312\n",
      "Test Accuracy: 0.7509599924087524\n"
     ]
    }
   ],
   "source": [
    "#Модель RNN\n",
    "model_RNN = Sequential()\n",
    "model_RNN.add(Embedding(max_features, 64, input_length=max_len))\n",
    "model_RNN.add(SimpleRNN(64, return_sequences=False))\n",
    "model_RNN.add(Dense(1, activation='sigmoid'))\n",
    "\n",
    "model_RNN.compile(optimizer='rmsprop', loss='binary_crossentropy', metrics=['acc'])\n",
    "\n",
    "history_RNN = model_RNN.fit(x_train, y_train, epochs=10, batch_size=64, validation_split=0.25)\n",
    "\n",
    "test_loss, test_acc = model_RNN.evaluate(x_test, y_test)\n",
    "print('Test Loss: {}'.format(test_loss))\n",
    "print('Test Accuracy: {}'.format(test_acc))"
   ]
  },
  {
   "cell_type": "code",
   "execution_count": 5,
   "metadata": {},
   "outputs": [
    {
     "name": "stdout",
     "output_type": "stream",
     "text": [
      "Epoch 1/10\n",
      "\u001b[1m293/293\u001b[0m \u001b[32m━━━━━━━━━━━━━━━━━━━━\u001b[0m\u001b[37m\u001b[0m \u001b[1m70s\u001b[0m 233ms/step - acc: 0.6120 - loss: 0.6410 - val_acc: 0.6432 - val_loss: 0.7305\n",
      "Epoch 2/10\n",
      "\u001b[1m293/293\u001b[0m \u001b[32m━━━━━━━━━━━━━━━━━━━━\u001b[0m\u001b[37m\u001b[0m \u001b[1m71s\u001b[0m 244ms/step - acc: 0.7879 - loss: 0.4708 - val_acc: 0.7869 - val_loss: 0.4888\n",
      "Epoch 3/10\n",
      "\u001b[1m293/293\u001b[0m \u001b[32m━━━━━━━━━━━━━━━━━━━━\u001b[0m\u001b[37m\u001b[0m \u001b[1m71s\u001b[0m 241ms/step - acc: 0.8060 - loss: 0.4415 - val_acc: 0.8261 - val_loss: 0.4067\n",
      "Epoch 4/10\n",
      "\u001b[1m293/293\u001b[0m \u001b[32m━━━━━━━━━━━━━━━━━━━━\u001b[0m\u001b[37m\u001b[0m \u001b[1m70s\u001b[0m 240ms/step - acc: 0.8330 - loss: 0.3977 - val_acc: 0.8214 - val_loss: 0.4021\n",
      "Epoch 5/10\n",
      "\u001b[1m293/293\u001b[0m \u001b[32m━━━━━━━━━━━━━━━━━━━━\u001b[0m\u001b[37m\u001b[0m \u001b[1m69s\u001b[0m 237ms/step - acc: 0.8385 - loss: 0.3774 - val_acc: 0.8062 - val_loss: 0.4106\n",
      "Epoch 6/10\n",
      "\u001b[1m293/293\u001b[0m \u001b[32m━━━━━━━━━━━━━━━━━━━━\u001b[0m\u001b[37m\u001b[0m \u001b[1m70s\u001b[0m 238ms/step - acc: 0.8507 - loss: 0.3529 - val_acc: 0.8526 - val_loss: 0.3474\n",
      "Epoch 7/10\n",
      "\u001b[1m293/293\u001b[0m \u001b[32m━━━━━━━━━━━━━━━━━━━━\u001b[0m\u001b[37m\u001b[0m \u001b[1m69s\u001b[0m 237ms/step - acc: 0.8610 - loss: 0.3340 - val_acc: 0.8582 - val_loss: 0.3372\n",
      "Epoch 8/10\n",
      "\u001b[1m293/293\u001b[0m \u001b[32m━━━━━━━━━━━━━━━━━━━━\u001b[0m\u001b[37m\u001b[0m \u001b[1m69s\u001b[0m 237ms/step - acc: 0.8706 - loss: 0.3114 - val_acc: 0.8242 - val_loss: 0.3784\n",
      "Epoch 9/10\n",
      "\u001b[1m293/293\u001b[0m \u001b[32m━━━━━━━━━━━━━━━━━━━━\u001b[0m\u001b[37m\u001b[0m \u001b[1m70s\u001b[0m 239ms/step - acc: 0.8745 - loss: 0.3050 - val_acc: 0.8688 - val_loss: 0.3126\n",
      "Epoch 10/10\n",
      "\u001b[1m293/293\u001b[0m \u001b[32m━━━━━━━━━━━━━━━━━━━━\u001b[0m\u001b[37m\u001b[0m \u001b[1m70s\u001b[0m 241ms/step - acc: 0.8840 - loss: 0.2856 - val_acc: 0.8443 - val_loss: 0.3488\n",
      "\u001b[1m782/782\u001b[0m \u001b[32m━━━━━━━━━━━━━━━━━━━━\u001b[0m\u001b[37m\u001b[0m \u001b[1m40s\u001b[0m 51ms/step - acc: 0.8462 - loss: 0.3472\n",
      "Test Loss: 0.34188321232795715\n",
      "Test Accuracy: 0.8499600291252136\n"
     ]
    }
   ],
   "source": [
    "# Модель LSTM\n",
    "model_LSTM = Sequential()\n",
    "model_LSTM.add(Embedding(max_features, 64, input_length=max_len))\n",
    "model_LSTM.add(LSTM(64, return_sequences=False))\n",
    "model_LSTM.add(Dense(1, activation='sigmoid'))\n",
    "\n",
    "model_LSTM.compile(optimizer='rmsprop', loss='binary_crossentropy', metrics=['acc'])\n",
    "\n",
    "history_LSTM = model_LSTM.fit(x_train, y_train, epochs=10, batch_size=64, validation_split=0.25)\n",
    "\n",
    "test_loss, test_acc = model_LSTM.evaluate(x_test, y_test)\n",
    "print('Test Loss: {}'.format(test_loss))\n",
    "print('Test Accuracy: {}'.format(test_acc))"
   ]
  },
  {
   "cell_type": "code",
   "execution_count": 6,
   "metadata": {},
   "outputs": [
    {
     "name": "stdout",
     "output_type": "stream",
     "text": [
      "Epoch 1/10\n",
      "\u001b[1m293/293\u001b[0m \u001b[32m━━━━━━━━━━━━━━━━━━━━\u001b[0m\u001b[37m\u001b[0m \u001b[1m135s\u001b[0m 451ms/step - acc: 0.5817 - loss: 0.6587 - val_acc: 0.7586 - val_loss: 0.5011\n",
      "Epoch 2/10\n",
      "\u001b[1m293/293\u001b[0m \u001b[32m━━━━━━━━━━━━━━━━━━━━\u001b[0m\u001b[37m\u001b[0m \u001b[1m141s\u001b[0m 482ms/step - acc: 0.7848 - loss: 0.4724 - val_acc: 0.8190 - val_loss: 0.4169\n",
      "Epoch 3/10\n",
      "\u001b[1m293/293\u001b[0m \u001b[32m━━━━━━━━━━━━━━━━━━━━\u001b[0m\u001b[37m\u001b[0m \u001b[1m143s\u001b[0m 488ms/step - acc: 0.8127 - loss: 0.4269 - val_acc: 0.8379 - val_loss: 0.3751\n",
      "Epoch 4/10\n",
      "\u001b[1m293/293\u001b[0m \u001b[32m━━━━━━━━━━━━━━━━━━━━\u001b[0m\u001b[37m\u001b[0m \u001b[1m141s\u001b[0m 482ms/step - acc: 0.8100 - loss: 0.4185 - val_acc: 0.7986 - val_loss: 0.4904\n",
      "Epoch 5/10\n",
      "\u001b[1m293/293\u001b[0m \u001b[32m━━━━━━━━━━━━━━━━━━━━\u001b[0m\u001b[37m\u001b[0m \u001b[1m141s\u001b[0m 480ms/step - acc: 0.8354 - loss: 0.3776 - val_acc: 0.8483 - val_loss: 0.3618\n",
      "Epoch 6/10\n",
      "\u001b[1m293/293\u001b[0m \u001b[32m━━━━━━━━━━━━━━━━━━━━\u001b[0m\u001b[37m\u001b[0m \u001b[1m143s\u001b[0m 488ms/step - acc: 0.8514 - loss: 0.3502 - val_acc: 0.8592 - val_loss: 0.3402\n",
      "Epoch 7/10\n",
      "\u001b[1m293/293\u001b[0m \u001b[32m━━━━━━━━━━━━━━━━━━━━\u001b[0m\u001b[37m\u001b[0m \u001b[1m140s\u001b[0m 478ms/step - acc: 0.8580 - loss: 0.3386 - val_acc: 0.8675 - val_loss: 0.3198\n",
      "Epoch 8/10\n",
      "\u001b[1m293/293\u001b[0m \u001b[32m━━━━━━━━━━━━━━━━━━━━\u001b[0m\u001b[37m\u001b[0m \u001b[1m144s\u001b[0m 493ms/step - acc: 0.8646 - loss: 0.3246 - val_acc: 0.8450 - val_loss: 0.3684\n",
      "Epoch 9/10\n",
      "\u001b[1m293/293\u001b[0m \u001b[32m━━━━━━━━━━━━━━━━━━━━\u001b[0m\u001b[37m\u001b[0m \u001b[1m141s\u001b[0m 482ms/step - acc: 0.8787 - loss: 0.2981 - val_acc: 0.8352 - val_loss: 0.3673\n",
      "Epoch 10/10\n",
      "\u001b[1m293/293\u001b[0m \u001b[32m━━━━━━━━━━━━━━━━━━━━\u001b[0m\u001b[37m\u001b[0m \u001b[1m141s\u001b[0m 481ms/step - acc: 0.8794 - loss: 0.2916 - val_acc: 0.8650 - val_loss: 0.3275\n",
      "\u001b[1m782/782\u001b[0m \u001b[32m━━━━━━━━━━━━━━━━━━━━\u001b[0m\u001b[37m\u001b[0m \u001b[1m56s\u001b[0m 72ms/step - acc: 0.8658 - loss: 0.3274\n",
      "Test Loss: 0.3225320875644684\n",
      "Test Accuracy: 0.8689200282096863\n"
     ]
    }
   ],
   "source": [
    "# Модель Bilateral LSTM\n",
    "model_BLSTM = Sequential()\n",
    "model_BLSTM.add(Embedding(max_features, 64, input_length=max_len))\n",
    "model_BLSTM.add(Bidirectional(LSTM(64, return_sequences=False)))\n",
    "model_BLSTM.add(Dense(1, activation='sigmoid'))\n",
    "\n",
    "model_BLSTM.compile(optimizer='rmsprop', loss='binary_crossentropy', metrics=['acc'])\n",
    "\n",
    "history = model_BLSTM.fit(x_train, y_train, epochs=10, batch_size=64, validation_split=0.25)\n",
    "\n",
    "test_loss, test_acc = model_BLSTM.evaluate(x_test, y_test)\n",
    "print('Test Loss: {}'.format(test_loss))\n",
    "print('Test Accuracy: {}'.format(test_acc))"
   ]
  },
  {
   "cell_type": "code",
   "execution_count": 7,
   "metadata": {},
   "outputs": [
    {
     "name": "stdout",
     "output_type": "stream",
     "text": [
      "Epoch 1/10\n",
      "\u001b[1m293/293\u001b[0m \u001b[32m━━━━━━━━━━━━━━━━━━━━\u001b[0m\u001b[37m\u001b[0m \u001b[1m214s\u001b[0m 717ms/step - acc: 0.5556 - loss: 0.6701 - val_acc: 0.7718 - val_loss: 0.4963\n",
      "Epoch 2/10\n",
      "\u001b[1m293/293\u001b[0m \u001b[32m━━━━━━━━━━━━━━━━━━━━\u001b[0m\u001b[37m\u001b[0m \u001b[1m220s\u001b[0m 750ms/step - acc: 0.7671 - loss: 0.4921 - val_acc: 0.7960 - val_loss: 0.4564\n",
      "Epoch 3/10\n",
      "\u001b[1m293/293\u001b[0m \u001b[32m━━━━━━━━━━━━━━━━━━━━\u001b[0m\u001b[37m\u001b[0m \u001b[1m221s\u001b[0m 755ms/step - acc: 0.8075 - loss: 0.4331 - val_acc: 0.8133 - val_loss: 0.4104\n",
      "Epoch 4/10\n",
      "\u001b[1m293/293\u001b[0m \u001b[32m━━━━━━━━━━━━━━━━━━━━\u001b[0m\u001b[37m\u001b[0m \u001b[1m219s\u001b[0m 748ms/step - acc: 0.8341 - loss: 0.3847 - val_acc: 0.8512 - val_loss: 0.3492\n",
      "Epoch 5/10\n",
      "\u001b[1m293/293\u001b[0m \u001b[32m━━━━━━━━━━━━━━━━━━━━\u001b[0m\u001b[37m\u001b[0m \u001b[1m225s\u001b[0m 768ms/step - acc: 0.8462 - loss: 0.3646 - val_acc: 0.8544 - val_loss: 0.3464\n",
      "Epoch 6/10\n",
      "\u001b[1m293/293\u001b[0m \u001b[32m━━━━━━━━━━━━━━━━━━━━\u001b[0m\u001b[37m\u001b[0m \u001b[1m222s\u001b[0m 759ms/step - acc: 0.8626 - loss: 0.3276 - val_acc: 0.8301 - val_loss: 0.3819\n",
      "Epoch 7/10\n",
      "\u001b[1m293/293\u001b[0m \u001b[32m━━━━━━━━━━━━━━━━━━━━\u001b[0m\u001b[37m\u001b[0m \u001b[1m225s\u001b[0m 769ms/step - acc: 0.8627 - loss: 0.3239 - val_acc: 0.8520 - val_loss: 0.3704\n",
      "Epoch 8/10\n",
      "\u001b[1m293/293\u001b[0m \u001b[32m━━━━━━━━━━━━━━━━━━━━\u001b[0m\u001b[37m\u001b[0m \u001b[1m221s\u001b[0m 753ms/step - acc: 0.8741 - loss: 0.3097 - val_acc: 0.8611 - val_loss: 0.3243\n",
      "Epoch 9/10\n",
      "\u001b[1m293/293\u001b[0m \u001b[32m━━━━━━━━━━━━━━━━━━━━\u001b[0m\u001b[37m\u001b[0m \u001b[1m222s\u001b[0m 757ms/step - acc: 0.8783 - loss: 0.2972 - val_acc: 0.8730 - val_loss: 0.3142\n",
      "Epoch 10/10\n",
      "\u001b[1m293/293\u001b[0m \u001b[32m━━━━━━━━━━━━━━━━━━━━\u001b[0m\u001b[37m\u001b[0m \u001b[1m224s\u001b[0m 764ms/step - acc: 0.8876 - loss: 0.2738 - val_acc: 0.8314 - val_loss: 0.4597\n",
      "\u001b[1m782/782\u001b[0m \u001b[32m━━━━━━━━━━━━━━━━━━━━\u001b[0m\u001b[37m\u001b[0m \u001b[1m116s\u001b[0m 149ms/step - acc: 0.8327 - loss: 0.4595\n",
      "Test Loss: 0.4577365517616272\n",
      "Test Accuracy: 0.8320000171661377\n"
     ]
    }
   ],
   "source": [
    "# Модель DeeP RNN\n",
    "\n",
    "model_deep = Sequential()\n",
    "model_deep.add(Embedding(max_features, 64, input_length=max_len))\n",
    "model_deep.add(LSTM(64, return_sequences=True))\n",
    "model_deep.add(LSTM(64, return_sequences=True))\n",
    "model_deep.add(LSTM(64, return_sequences=False))\n",
    "model_deep.add(Dense(1, activation='sigmoid'))\n",
    "\n",
    "model_deep.compile(optimizer='rmsprop', loss='binary_crossentropy', metrics=['acc'])\n",
    "\n",
    "history = model_deep.fit(x_train, y_train, epochs=10, batch_size=64, validation_split=0.25)\n",
    "\n",
    "test_loss, test_acc = model_deep.evaluate(x_test, y_test)\n",
    "print('Test Loss: {}'.format(test_loss))\n",
    "print('Test Accuracy: {}'.format(test_acc))"
   ]
  },
  {
   "cell_type": "markdown",
   "metadata": {},
   "source": [
    "Як ми бачимо, на данному датасеті показала модель Bilateral LSTM"
   ]
  }
 ],
 "metadata": {
  "kernelspec": {
   "display_name": "Python 3",
   "language": "python",
   "name": "python3"
  },
  "language_info": {
   "codemirror_mode": {
    "name": "ipython",
    "version": 3
   },
   "file_extension": ".py",
   "mimetype": "text/x-python",
   "name": "python",
   "nbconvert_exporter": "python",
   "pygments_lexer": "ipython3",
   "version": "3.12.0"
  }
 },
 "nbformat": 4,
 "nbformat_minor": 2
}
